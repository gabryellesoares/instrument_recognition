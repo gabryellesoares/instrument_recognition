{
 "cells": [
  {
   "cell_type": "code",
   "execution_count": 45,
   "id": "fb3657ce",
   "metadata": {
    "scrolled": true,
    "tags": []
   },
   "outputs": [],
   "source": [
    "import os\n",
    "import sys\n",
    "import math\n",
    "import pickle\n",
    "import random\n",
    "import librosa\n",
    "import warnings\n",
    "import numpy as np\n",
    "import pandas as pd\n",
    "import seaborn as sns\n",
    "import soundfile as sf\n",
    "import tensorflow as tf\n",
    "import vggish.vggish as vggish\n",
    "import IPython.display as ipd\n",
    "import matplotlib.pyplot as plt\n",
    "from sklearn.metrics import accuracy_score, precision_score, recall_score, f1_score, confusion_matrix, classification_report\n",
    "from sklearn.ensemble import RandomForestClassifier\n",
    "from sklearn.model_selection import train_test_split\n",
    "\n",
    "%matplotlib inline\n",
    "tf.get_logger().setLevel('INFO')\n",
    "warnings.filterwarnings('ignore')\n",
    "os.environ['TF_CPP_MIN_LOG_LEVEL'] = '2'"
   ]
  },
  {
   "cell_type": "markdown",
   "id": "87729225",
   "metadata": {},
   "source": [
    "# OPENMIC"
   ]
  },
  {
   "cell_type": "code",
   "execution_count": 3,
   "id": "2222511c",
   "metadata": {
    "scrolled": true
   },
   "outputs": [
    {
     "data": {
      "text/html": [
       "<div>\n",
       "<style scoped>\n",
       "    .dataframe tbody tr th:only-of-type {\n",
       "        vertical-align: middle;\n",
       "    }\n",
       "\n",
       "    .dataframe tbody tr th {\n",
       "        vertical-align: top;\n",
       "    }\n",
       "\n",
       "    .dataframe thead th {\n",
       "        text-align: right;\n",
       "    }\n",
       "</style>\n",
       "<table border=\"1\" class=\"dataframe\">\n",
       "  <thead>\n",
       "    <tr style=\"text-align: right;\">\n",
       "      <th></th>\n",
       "      <th>sample_key</th>\n",
       "      <th>instrument</th>\n",
       "      <th>relevance</th>\n",
       "      <th>num_responses</th>\n",
       "    </tr>\n",
       "  </thead>\n",
       "  <tbody>\n",
       "    <tr>\n",
       "      <th>0</th>\n",
       "      <td>000046_3840</td>\n",
       "      <td>clarinet</td>\n",
       "      <td>0.17105</td>\n",
       "      <td>3</td>\n",
       "    </tr>\n",
       "    <tr>\n",
       "      <th>1</th>\n",
       "      <td>000046_3840</td>\n",
       "      <td>flute</td>\n",
       "      <td>0.00000</td>\n",
       "      <td>3</td>\n",
       "    </tr>\n",
       "    <tr>\n",
       "      <th>2</th>\n",
       "      <td>000046_3840</td>\n",
       "      <td>trumpet</td>\n",
       "      <td>0.00000</td>\n",
       "      <td>3</td>\n",
       "    </tr>\n",
       "    <tr>\n",
       "      <th>3</th>\n",
       "      <td>000135_483840</td>\n",
       "      <td>saxophone</td>\n",
       "      <td>0.14705</td>\n",
       "      <td>3</td>\n",
       "    </tr>\n",
       "    <tr>\n",
       "      <th>4</th>\n",
       "      <td>000135_483840</td>\n",
       "      <td>voice</td>\n",
       "      <td>1.00000</td>\n",
       "      <td>3</td>\n",
       "    </tr>\n",
       "  </tbody>\n",
       "</table>\n",
       "</div>"
      ],
      "text/plain": [
       "      sample_key instrument  relevance  num_responses\n",
       "0    000046_3840   clarinet    0.17105              3\n",
       "1    000046_3840      flute    0.00000              3\n",
       "2    000046_3840    trumpet    0.00000              3\n",
       "3  000135_483840  saxophone    0.14705              3\n",
       "4  000135_483840      voice    1.00000              3"
      ]
     },
     "execution_count": 3,
     "metadata": {},
     "output_type": "execute_result"
    }
   ],
   "source": [
    "df_openmic = pd.read_csv('openmic/openmic-2018-aggregated-labels.csv')\n",
    "df_openmic.head()"
   ]
  },
  {
   "cell_type": "code",
   "execution_count": 4,
   "id": "524e1439",
   "metadata": {},
   "outputs": [
    {
     "data": {
      "text/plain": [
       "(41534, 4)"
      ]
     },
     "execution_count": 4,
     "metadata": {},
     "output_type": "execute_result"
    }
   ],
   "source": [
    "df_openmic.shape"
   ]
  },
  {
   "cell_type": "code",
   "execution_count": 5,
   "id": "5c24cba8",
   "metadata": {},
   "outputs": [
    {
     "data": {
      "text/plain": [
       "instrument\n",
       "trumpet              2928\n",
       "trombone             2783\n",
       "mandolin             2477\n",
       "ukulele              2437\n",
       "clarinet             2398\n",
       "saxophone            2377\n",
       "banjo                2229\n",
       "flute                2095\n",
       "accordion            2093\n",
       "violin               2047\n",
       "cello                1960\n",
       "organ                1901\n",
       "bass                 1900\n",
       "mallet_percussion    1814\n",
       "drums                1759\n",
       "cymbals              1749\n",
       "piano                1733\n",
       "guitar               1664\n",
       "synthesizer          1614\n",
       "voice                1576\n",
       "Name: count, dtype: int64"
      ]
     },
     "execution_count": 5,
     "metadata": {},
     "output_type": "execute_result"
    }
   ],
   "source": [
    "df_openmic['instrument'].value_counts()"
   ]
  },
  {
   "cell_type": "code",
   "execution_count": 6,
   "id": "a7ef72f8",
   "metadata": {
    "scrolled": true
   },
   "outputs": [
    {
     "name": "stdout",
     "output_type": "stream",
     "text": [
      "Train: 14915\n",
      "Test: 5085\n"
     ]
    }
   ],
   "source": [
    "split_train = pd.read_csv('openmic/partitions/split01_train.csv', header=None).squeeze()\n",
    "split_test = pd.read_csv('openmic/partitions/split01_test.csv', header=None).squeeze()\n",
    "\n",
    "print(f'Train: {len(split_train)}\\nTest: {len(split_test)}')"
   ]
  },
  {
   "cell_type": "code",
   "execution_count": 7,
   "id": "85a642de-af7e-4626-8cc6-8233824655b6",
   "metadata": {},
   "outputs": [],
   "source": [
    "inst_openmic = ['bass', 'drums', 'guitar', 'piano', 'voice']"
   ]
  },
  {
   "cell_type": "code",
   "execution_count": 8,
   "id": "99caebb3-1e48-4b87-845f-ee8c97d6945a",
   "metadata": {},
   "outputs": [],
   "source": [
    "inst_openmic_nsynth = ['bass', 'guitar', 'synthesizer', 'voice']"
   ]
  },
  {
   "cell_type": "markdown",
   "id": "0ddfa06c-c8d7-4a69-a989-ea0dc6ff706c",
   "metadata": {},
   "source": [
    "# Demucs"
   ]
  },
  {
   "cell_type": "code",
   "execution_count": 9,
   "id": "a8c5a2d7-881c-498c-8cf7-d6bf06196b1d",
   "metadata": {},
   "outputs": [
    {
     "data": {
      "text/html": [
       "<div>\n",
       "<style scoped>\n",
       "    .dataframe tbody tr th:only-of-type {\n",
       "        vertical-align: middle;\n",
       "    }\n",
       "\n",
       "    .dataframe tbody tr th {\n",
       "        vertical-align: top;\n",
       "    }\n",
       "\n",
       "    .dataframe thead th {\n",
       "        text-align: right;\n",
       "    }\n",
       "</style>\n",
       "<table border=\"1\" class=\"dataframe\">\n",
       "  <thead>\n",
       "    <tr style=\"text-align: right;\">\n",
       "      <th></th>\n",
       "      <th>track_id</th>\n",
       "      <th>instrument</th>\n",
       "      <th>track</th>\n",
       "    </tr>\n",
       "  </thead>\n",
       "  <tbody>\n",
       "    <tr>\n",
       "      <th>0</th>\n",
       "      <td>track_0_0</td>\n",
       "      <td>bass</td>\n",
       "      <td>the-less-i-know-the-better</td>\n",
       "    </tr>\n",
       "    <tr>\n",
       "      <th>1</th>\n",
       "      <td>track_0_1</td>\n",
       "      <td>bass</td>\n",
       "      <td>the-less-i-know-the-better</td>\n",
       "    </tr>\n",
       "    <tr>\n",
       "      <th>2</th>\n",
       "      <td>track_0_2</td>\n",
       "      <td>bass</td>\n",
       "      <td>the-less-i-know-the-better</td>\n",
       "    </tr>\n",
       "    <tr>\n",
       "      <th>3</th>\n",
       "      <td>track_0_3</td>\n",
       "      <td>bass</td>\n",
       "      <td>the-less-i-know-the-better</td>\n",
       "    </tr>\n",
       "    <tr>\n",
       "      <th>4</th>\n",
       "      <td>track_0_4</td>\n",
       "      <td>bass</td>\n",
       "      <td>the-less-i-know-the-better</td>\n",
       "    </tr>\n",
       "  </tbody>\n",
       "</table>\n",
       "</div>"
      ],
      "text/plain": [
       "    track_id instrument                       track\n",
       "0  track_0_0       bass  the-less-i-know-the-better\n",
       "1  track_0_1       bass  the-less-i-know-the-better\n",
       "2  track_0_2       bass  the-less-i-know-the-better\n",
       "3  track_0_3       bass  the-less-i-know-the-better\n",
       "4  track_0_4       bass  the-less-i-know-the-better"
      ]
     },
     "execution_count": 9,
     "metadata": {},
     "output_type": "execute_result"
    }
   ],
   "source": [
    "df_demucs = pd.read_csv('separated/demucs-instruments.csv')\n",
    "df_demucs.head()"
   ]
  },
  {
   "cell_type": "code",
   "execution_count": 10,
   "id": "b0745276-d0c7-4d28-9cb7-48cd5678e589",
   "metadata": {},
   "outputs": [
    {
     "data": {
      "text/plain": [
       "(949, 3)"
      ]
     },
     "execution_count": 10,
     "metadata": {},
     "output_type": "execute_result"
    }
   ],
   "source": [
    "df_demucs.shape"
   ]
  },
  {
   "cell_type": "code",
   "execution_count": 11,
   "id": "09bf0b0a-e9ee-4dcb-8cc2-8eff7b1e06ff",
   "metadata": {},
   "outputs": [
    {
     "data": {
      "text/plain": [
       "instrument\n",
       "guitar    232\n",
       "vocals    215\n",
       "bass      201\n",
       "drums     193\n",
       "piano     108\n",
       "Name: count, dtype: int64"
      ]
     },
     "execution_count": 11,
     "metadata": {},
     "output_type": "execute_result"
    }
   ],
   "source": [
    "df_demucs['instrument'].value_counts()"
   ]
  },
  {
   "cell_type": "code",
   "execution_count": 12,
   "id": "ca31bad9-f135-4b1e-b194-a99b5a1c4f79",
   "metadata": {},
   "outputs": [],
   "source": [
    "DEMUCS = np.load('separated/demucs_features.npz', allow_pickle=True)"
   ]
  },
  {
   "cell_type": "code",
   "execution_count": 13,
   "id": "62cfe323-c8dd-4dfd-a919-b957c1eafb47",
   "metadata": {},
   "outputs": [],
   "source": [
    "X_d, Y_true_d, track_id_d = DEMUCS['X'], DEMUCS['Y_mask'], DEMUCS['track_id']"
   ]
  },
  {
   "cell_type": "markdown",
   "id": "be4dcb82-a90c-4f2b-a7a1-62d4d79503e4",
   "metadata": {
    "tags": []
   },
   "source": [
    "# NSynth"
   ]
  },
  {
   "cell_type": "code",
   "execution_count": 14,
   "id": "868d17fb-6b1f-4200-a0c9-16adef91b7a6",
   "metadata": {},
   "outputs": [
    {
     "data": {
      "text/html": [
       "<div>\n",
       "<style scoped>\n",
       "    .dataframe tbody tr th:only-of-type {\n",
       "        vertical-align: middle;\n",
       "    }\n",
       "\n",
       "    .dataframe tbody tr th {\n",
       "        vertical-align: top;\n",
       "    }\n",
       "\n",
       "    .dataframe thead th {\n",
       "        text-align: right;\n",
       "    }\n",
       "</style>\n",
       "<table border=\"1\" class=\"dataframe\">\n",
       "  <thead>\n",
       "    <tr style=\"text-align: right;\">\n",
       "      <th></th>\n",
       "      <th>track_id</th>\n",
       "      <th>instrument</th>\n",
       "      <th>predicted</th>\n",
       "    </tr>\n",
       "  </thead>\n",
       "  <tbody>\n",
       "    <tr>\n",
       "      <th>0</th>\n",
       "      <td>keyboard_electronic_008-067-075</td>\n",
       "      <td>synthesizer</td>\n",
       "      <td>synthesizer</td>\n",
       "    </tr>\n",
       "    <tr>\n",
       "      <th>1</th>\n",
       "      <td>keyboard_acoustic_009-073-127</td>\n",
       "      <td>synthesizer</td>\n",
       "      <td>guitar</td>\n",
       "    </tr>\n",
       "    <tr>\n",
       "      <th>2</th>\n",
       "      <td>keyboard_electronic_109-056-100</td>\n",
       "      <td>synthesizer</td>\n",
       "      <td>synthesizer</td>\n",
       "    </tr>\n",
       "    <tr>\n",
       "      <th>3</th>\n",
       "      <td>keyboard_electronic_059-094-025</td>\n",
       "      <td>synthesizer</td>\n",
       "      <td>synthesizer</td>\n",
       "    </tr>\n",
       "    <tr>\n",
       "      <th>4</th>\n",
       "      <td>keyboard_electronic_005-069-025</td>\n",
       "      <td>synthesizer</td>\n",
       "      <td>synthesizer</td>\n",
       "    </tr>\n",
       "  </tbody>\n",
       "</table>\n",
       "</div>"
      ],
      "text/plain": [
       "                          track_id   instrument    predicted\n",
       "0  keyboard_electronic_008-067-075  synthesizer  synthesizer\n",
       "1    keyboard_acoustic_009-073-127  synthesizer       guitar\n",
       "2  keyboard_electronic_109-056-100  synthesizer  synthesizer\n",
       "3  keyboard_electronic_059-094-025  synthesizer  synthesizer\n",
       "4  keyboard_electronic_005-069-025  synthesizer  synthesizer"
      ]
     },
     "execution_count": 14,
     "metadata": {},
     "output_type": "execute_result"
    }
   ],
   "source": [
    "df_nsynth = pd.read_csv('nsynth/nsynth_instruments.csv')\n",
    "df_nsynth.head()"
   ]
  },
  {
   "cell_type": "code",
   "execution_count": 15,
   "id": "88eba1f1-6444-4732-a386-c1b200bac011",
   "metadata": {},
   "outputs": [
    {
     "data": {
      "text/plain": [
       "(4000, 3)"
      ]
     },
     "execution_count": 15,
     "metadata": {},
     "output_type": "execute_result"
    }
   ],
   "source": [
    "df_nsynth.shape"
   ]
  },
  {
   "cell_type": "code",
   "execution_count": 16,
   "id": "8194d372-4185-43b1-87ad-63c54ee36481",
   "metadata": {},
   "outputs": [
    {
     "data": {
      "text/plain": [
       "instrument\n",
       "synthesizer    1000\n",
       "guitar         1000\n",
       "bass           1000\n",
       "voice          1000\n",
       "Name: count, dtype: int64"
      ]
     },
     "execution_count": 16,
     "metadata": {},
     "output_type": "execute_result"
    }
   ],
   "source": [
    "df_nsynth['instrument'].value_counts()"
   ]
  },
  {
   "cell_type": "code",
   "execution_count": 17,
   "id": "70542bd9-5228-451b-a502-715f446f252d",
   "metadata": {},
   "outputs": [],
   "source": [
    "NSYNTH = np.load('nsynth/features.npz', allow_pickle=True)"
   ]
  },
  {
   "cell_type": "code",
   "execution_count": 18,
   "id": "9740e6d0-1b35-4a0a-a8bc-859013cfd5b3",
   "metadata": {},
   "outputs": [],
   "source": [
    "X_ns, Y_true_ns, track_id_ns = NSYNTH['X'], NSYNTH['Y_mask'], NSYNTH['track_id']"
   ]
  },
  {
   "cell_type": "markdown",
   "id": "426d9896-cf54-4ebe-ad67-cf489a32fe1d",
   "metadata": {
    "jp-MarkdownHeadingCollapsed": true,
    "tags": []
   },
   "source": [
    "## Treinamento Nsynth"
   ]
  },
  {
   "cell_type": "code",
   "execution_count": 7,
   "id": "2094dc2a-f6a5-44be-923f-56d9e883d8ec",
   "metadata": {},
   "outputs": [
    {
     "data": {
      "text/plain": [
       "array(['bass', 'guitar', 'keyboard', 'vocal'], dtype=object)"
      ]
     },
     "execution_count": 7,
     "metadata": {},
     "output_type": "execute_result"
    }
   ],
   "source": [
    "instruments = np.unique(df_nsynth['instrument'])\n",
    "instruments"
   ]
  },
  {
   "cell_type": "code",
   "execution_count": 8,
   "id": "370d7bab-8418-4b46-8e19-622dcadf906a",
   "metadata": {},
   "outputs": [
    {
     "data": {
      "text/plain": [
       "{'bass': 0, 'guitar': 1, 'keyboard': 2, 'vocal': 3}"
      ]
     },
     "execution_count": 8,
     "metadata": {},
     "output_type": "execute_result"
    }
   ],
   "source": [
    "class_map = {inst: i for i, inst in enumerate(instruments)}\n",
    "class_map"
   ]
  },
  {
   "cell_type": "code",
   "execution_count": 9,
   "id": "3b20f059-97a3-4744-9e69-3aea5ae9356d",
   "metadata": {},
   "outputs": [],
   "source": [
    "x_split = df_nsynth['track_id']\n",
    "y_split = df_nsynth['instrument']\n",
    "x_train, x_test, y_train, y_test = train_test_split(x_split, y_split, test_size=0.2, random_state=42)"
   ]
  },
  {
   "cell_type": "code",
   "execution_count": 10,
   "id": "714e9151-b8e8-40b8-8668-3df222662ad6",
   "metadata": {},
   "outputs": [
    {
     "name": "stdout",
     "output_type": "stream",
     "text": [
      "Train: 3200\n",
      "Test: 800\n"
     ]
    }
   ],
   "source": [
    "print(f'Train: {len(x_train)}\\nTest: {len(x_test)}')"
   ]
  },
  {
   "cell_type": "code",
   "execution_count": 11,
   "id": "06a2e589-9316-4c65-ae6e-9ba833a59fc5",
   "metadata": {},
   "outputs": [],
   "source": [
    "train_set = set(x_train)\n",
    "test_set = set(x_test)"
   ]
  },
  {
   "cell_type": "code",
   "execution_count": 12,
   "id": "26913890-9cc6-442c-a477-7a608f2c4560",
   "metadata": {},
   "outputs": [],
   "source": [
    "idx_train, idx_test = [], []\n",
    "\n",
    "for idx, n in enumerate(track_id):\n",
    "    if n in train_set:\n",
    "        idx_train.append(idx)\n",
    "    elif n in test_set:\n",
    "        idx_test.append(idx)\n",
    "        \n",
    "idx_train = np.asarray(idx_train)\n",
    "idx_test = np.asarray(idx_test)"
   ]
  },
  {
   "cell_type": "code",
   "execution_count": 13,
   "id": "6f3179f6-7e70-4b29-b455-3b0ace3e39c5",
   "metadata": {},
   "outputs": [],
   "source": [
    "X_train = X[idx_train]\n",
    "X_test = X[idx_test]\n",
    "\n",
    "Y_train = Y_true[idx_train]\n",
    "Y_test = Y_true[idx_test]"
   ]
  },
  {
   "cell_type": "code",
   "execution_count": 14,
   "id": "1d029d82-d27d-41a5-a496-89c1953be281",
   "metadata": {},
   "outputs": [
    {
     "name": "stdout",
     "output_type": "stream",
     "text": [
      "X_train shape: (3200, 4, 128)\n",
      "X_test shape: (800, 4, 128)\n",
      "Y_train shape: (3200, 4)\n",
      "Y_test shape: (800, 4)\n"
     ]
    }
   ],
   "source": [
    "print(f'X_train shape: {X_train.shape}')\n",
    "print(f'X_test shape: {X_test.shape}')\n",
    "print(f'Y_train shape: {Y_train.shape}')\n",
    "print(f'Y_test shape: {Y_test.shape}')"
   ]
  },
  {
   "cell_type": "code",
   "execution_count": 17,
   "id": "1a0a2760-e284-42a3-9160-7bcbb82d1114",
   "metadata": {
    "scrolled": true,
    "tags": []
   },
   "outputs": [
    {
     "name": "stdout",
     "output_type": "stream",
     "text": [
      "----------------------------------------------------\n",
      "bass\n",
      "\tTRAIN\n",
      "              precision    recall  f1-score   support\n",
      "\n",
      "       False       0.94      0.99      0.97      2394\n",
      "        True       0.98      0.82      0.89       806\n",
      "\n",
      "    accuracy                           0.95      3200\n",
      "   macro avg       0.96      0.91      0.93      3200\n",
      "weighted avg       0.95      0.95      0.95      3200\n",
      "\n",
      "\tTEST\n",
      "              precision    recall  f1-score   support\n",
      "\n",
      "       False       0.86      0.95      0.90       606\n",
      "        True       0.75      0.51      0.61       194\n",
      "\n",
      "    accuracy                           0.84       800\n",
      "   macro avg       0.80      0.73      0.75       800\n",
      "weighted avg       0.83      0.84      0.83       800\n",
      "\n",
      "----------------------------------------------------\n",
      "guitar\n",
      "\tTRAIN\n",
      "              precision    recall  f1-score   support\n",
      "\n",
      "       False       0.94      0.99      0.96      2413\n",
      "        True       0.96      0.80      0.87       787\n",
      "\n",
      "    accuracy                           0.94      3200\n",
      "   macro avg       0.95      0.90      0.92      3200\n",
      "weighted avg       0.94      0.94      0.94      3200\n",
      "\n",
      "\tTEST\n",
      "              precision    recall  f1-score   support\n",
      "\n",
      "       False       0.83      0.96      0.89       587\n",
      "        True       0.79      0.44      0.57       213\n",
      "\n",
      "    accuracy                           0.82       800\n",
      "   macro avg       0.81      0.70      0.73       800\n",
      "weighted avg       0.82      0.82      0.80       800\n",
      "\n",
      "----------------------------------------------------\n",
      "keyboard\n",
      "\tTRAIN\n",
      "              precision    recall  f1-score   support\n",
      "\n",
      "       False       0.99      0.99      0.99      2409\n",
      "        True       0.97      0.97      0.97       791\n",
      "\n",
      "    accuracy                           0.99      3200\n",
      "   macro avg       0.98      0.98      0.98      3200\n",
      "weighted avg       0.99      0.99      0.99      3200\n",
      "\n",
      "\tTEST\n",
      "              precision    recall  f1-score   support\n",
      "\n",
      "       False       0.93      0.95      0.94       591\n",
      "        True       0.85      0.81      0.83       209\n",
      "\n",
      "    accuracy                           0.91       800\n",
      "   macro avg       0.89      0.88      0.89       800\n",
      "weighted avg       0.91      0.91      0.91       800\n",
      "\n",
      "----------------------------------------------------\n",
      "vocal\n",
      "\tTRAIN\n",
      "              precision    recall  f1-score   support\n",
      "\n",
      "       False       1.00      1.00      1.00      2384\n",
      "        True       1.00      1.00      1.00       816\n",
      "\n",
      "    accuracy                           1.00      3200\n",
      "   macro avg       1.00      1.00      1.00      3200\n",
      "weighted avg       1.00      1.00      1.00      3200\n",
      "\n",
      "\tTEST\n",
      "              precision    recall  f1-score   support\n",
      "\n",
      "       False       1.00      1.00      1.00       616\n",
      "        True       0.99      1.00      1.00       184\n",
      "\n",
      "    accuracy                           1.00       800\n",
      "   macro avg       1.00      1.00      1.00       800\n",
      "weighted avg       1.00      1.00      1.00       800\n",
      "\n"
     ]
    }
   ],
   "source": [
    "models = dict()\n",
    "\n",
    "for idx, instrument in enumerate(class_map):\n",
    "    train_inst = Y_train[:, idx]\n",
    "    test_inst = Y_test[:, idx]\n",
    "    \n",
    "    X_train_inst = X_train[train_inst == 1]  \n",
    "    X_train_other = X_train[train_inst != 1] \n",
    "    X_train_inst_sklearn = np.mean(X_train_inst, axis=1)\n",
    "    X_train_other_sklearn = np.mean(X_train_other, axis=1)\n",
    "    \n",
    "    Y_true_train_inst = np.ones(len(X_train_inst), dtype=bool)  \n",
    "    Y_true_train_other = np.zeros(len(X_train_other), dtype=bool)  \n",
    "    Y_true_train = np.concatenate((Y_true_train_inst, Y_true_train_other))\n",
    "    \n",
    "    X_test_inst = X_test[test_inst == 1]  \n",
    "    X_test_other = X_test[test_inst != 1]  \n",
    "    X_test_inst_sklearn = np.mean(X_test_inst, axis=1)\n",
    "    X_test_other_sklearn = np.mean(X_test_other, axis=1)\n",
    "    \n",
    "    Y_true_test_inst = np.ones(len(X_test_inst), dtype=bool)  \n",
    "    Y_true_test_other = np.zeros(len(X_test_other), dtype=bool)  \n",
    "    Y_true_test = np.concatenate((Y_true_test_inst, Y_true_test_other))\n",
    "\n",
    "    clf = RandomForestClassifier(max_depth=8, n_estimators=100, random_state=0)\n",
    "    \n",
    "    X_train_combined = np.concatenate((X_train_inst_sklearn, X_train_other_sklearn))\n",
    "    clf.fit(X_train_combined, Y_true_train)\n",
    "\n",
    "    Y_pred_train = clf.predict(X_train_combined)\n",
    "    Y_pred_test = clf.predict(np.concatenate((X_test_inst_sklearn, X_test_other_sklearn)))\n",
    "    \n",
    "    print('-' * 52)\n",
    "    print(instrument)\n",
    "    print('\\tTRAIN')\n",
    "    print(classification_report(Y_true_train, Y_pred_train))\n",
    "    print('\\tTEST')\n",
    "    print(classification_report(Y_true_test, Y_pred_test))\n",
    "    \n",
    "    models[instrument] = clf"
   ]
  },
  {
   "cell_type": "markdown",
   "id": "9d1aee64",
   "metadata": {
    "tags": []
   },
   "source": [
    "# MTG-Jamendo"
   ]
  },
  {
   "cell_type": "code",
   "execution_count": 19,
   "id": "b0e301c1",
   "metadata": {},
   "outputs": [
    {
     "data": {
      "text/html": [
       "<div>\n",
       "<style scoped>\n",
       "    .dataframe tbody tr th:only-of-type {\n",
       "        vertical-align: middle;\n",
       "    }\n",
       "\n",
       "    .dataframe tbody tr th {\n",
       "        vertical-align: top;\n",
       "    }\n",
       "\n",
       "    .dataframe thead th {\n",
       "        text-align: right;\n",
       "    }\n",
       "</style>\n",
       "<table border=\"1\" class=\"dataframe\">\n",
       "  <thead>\n",
       "    <tr style=\"text-align: right;\">\n",
       "      <th></th>\n",
       "      <th>track_id</th>\n",
       "      <th>instrument</th>\n",
       "    </tr>\n",
       "  </thead>\n",
       "  <tbody>\n",
       "    <tr>\n",
       "      <th>0</th>\n",
       "      <td>track_0151154_0</td>\n",
       "      <td>piano</td>\n",
       "    </tr>\n",
       "    <tr>\n",
       "      <th>1</th>\n",
       "      <td>track_0151154_1</td>\n",
       "      <td>piano</td>\n",
       "    </tr>\n",
       "    <tr>\n",
       "      <th>2</th>\n",
       "      <td>track_0151154_2</td>\n",
       "      <td>piano</td>\n",
       "    </tr>\n",
       "    <tr>\n",
       "      <th>3</th>\n",
       "      <td>track_0151154_3</td>\n",
       "      <td>piano</td>\n",
       "    </tr>\n",
       "    <tr>\n",
       "      <th>4</th>\n",
       "      <td>track_0151154_4</td>\n",
       "      <td>piano</td>\n",
       "    </tr>\n",
       "  </tbody>\n",
       "</table>\n",
       "</div>"
      ],
      "text/plain": [
       "          track_id instrument\n",
       "0  track_0151154_0      piano\n",
       "1  track_0151154_1      piano\n",
       "2  track_0151154_2      piano\n",
       "3  track_0151154_3      piano\n",
       "4  track_0151154_4      piano"
      ]
     },
     "execution_count": 19,
     "metadata": {},
     "output_type": "execute_result"
    }
   ],
   "source": [
    "df_jamendo = pd.read_csv('mtg-jamendo/selected-instruments-splitted.csv')\n",
    "df_jamendo.head()"
   ]
  },
  {
   "cell_type": "code",
   "execution_count": 20,
   "id": "4758cff7-1885-4eda-9fa1-67afbbcedbd7",
   "metadata": {},
   "outputs": [
    {
     "data": {
      "text/plain": [
       "(6151, 2)"
      ]
     },
     "execution_count": 20,
     "metadata": {},
     "output_type": "execute_result"
    }
   ],
   "source": [
    "df_jamendo.shape"
   ]
  },
  {
   "cell_type": "code",
   "execution_count": 21,
   "id": "8ad0f29f",
   "metadata": {
    "scrolled": true
   },
   "outputs": [
    {
     "data": {
      "text/plain": [
       "instrument\n",
       "acousticguitar    1521\n",
       "electricguitar    1336\n",
       "bass              1224\n",
       "drums              780\n",
       "piano              740\n",
       "voice              550\n",
       "Name: count, dtype: int64"
      ]
     },
     "execution_count": 21,
     "metadata": {},
     "output_type": "execute_result"
    }
   ],
   "source": [
    "df_jamendo['instrument'].value_counts()"
   ]
  },
  {
   "cell_type": "code",
   "execution_count": 22,
   "id": "1999801f",
   "metadata": {
    "scrolled": true
   },
   "outputs": [],
   "source": [
    "JAMENDO = np.load('mtg-jamendo/new_features.npz', allow_pickle=True)"
   ]
  },
  {
   "cell_type": "code",
   "execution_count": 23,
   "id": "80e5930c",
   "metadata": {
    "scrolled": true
   },
   "outputs": [],
   "source": [
    "X_j, Y_true_j, track_id_j = JAMENDO['X'], JAMENDO['Y_mask'], JAMENDO['track_id']"
   ]
  },
  {
   "cell_type": "markdown",
   "id": "6d1a5a32",
   "metadata": {
    "jp-MarkdownHeadingCollapsed": true,
    "tags": []
   },
   "source": [
    "## Training MTG-Jamendo"
   ]
  },
  {
   "cell_type": "code",
   "execution_count": 18,
   "id": "6f845225",
   "metadata": {
    "scrolled": true
   },
   "outputs": [
    {
     "data": {
      "text/plain": [
       "array(['acousticguitar', 'bass', 'drums', 'electricguitar', 'piano',\n",
       "       'voice'], dtype=object)"
      ]
     },
     "execution_count": 18,
     "metadata": {},
     "output_type": "execute_result"
    }
   ],
   "source": [
    "instruments = np.unique(df_jamendo['instrument'])\n",
    "instruments"
   ]
  },
  {
   "cell_type": "code",
   "execution_count": 19,
   "id": "c1efe202",
   "metadata": {},
   "outputs": [
    {
     "data": {
      "text/plain": [
       "{'acousticguitar': 0,\n",
       " 'bass': 1,\n",
       " 'drums': 2,\n",
       " 'electricguitar': 3,\n",
       " 'piano': 4,\n",
       " 'voice': 5}"
      ]
     },
     "execution_count": 19,
     "metadata": {},
     "output_type": "execute_result"
    }
   ],
   "source": [
    "class_map = {inst: i for i, inst in enumerate(instruments)}\n",
    "class_map"
   ]
  },
  {
   "cell_type": "code",
   "execution_count": 14,
   "id": "2e428021",
   "metadata": {},
   "outputs": [],
   "source": [
    "x_split = df_jamendo['track_id']\n",
    "y_split = df_jamendo['instrument']\n",
    "x_train, x_test, y_train, y_test = train_test_split(x_split, y_split, test_size=0.2, random_state=42)"
   ]
  },
  {
   "cell_type": "code",
   "execution_count": 15,
   "id": "a922f355",
   "metadata": {
    "scrolled": true
   },
   "outputs": [
    {
     "name": "stdout",
     "output_type": "stream",
     "text": [
      "Train: 4920\n",
      "Test: 1231\n"
     ]
    }
   ],
   "source": [
    "print(f'Train: {len(x_train)}\\nTest: {len(x_test)}')"
   ]
  },
  {
   "cell_type": "code",
   "execution_count": 16,
   "id": "f41af9a1",
   "metadata": {
    "scrolled": true
   },
   "outputs": [],
   "source": [
    "train_set = set(x_train)\n",
    "test_set = set(x_test)"
   ]
  },
  {
   "cell_type": "code",
   "execution_count": 17,
   "id": "3b1d63d4",
   "metadata": {
    "scrolled": true
   },
   "outputs": [],
   "source": [
    "idx_train, idx_test = [], []\n",
    "\n",
    "for idx, n in enumerate(track_id):\n",
    "    if n in train_set:\n",
    "        idx_train.append(idx)\n",
    "    elif n in test_set:\n",
    "        idx_test.append(idx)\n",
    "        \n",
    "idx_train = np.asarray(idx_train)\n",
    "idx_test = np.asarray(idx_test)"
   ]
  },
  {
   "cell_type": "code",
   "execution_count": 18,
   "id": "65eaf9b7",
   "metadata": {
    "scrolled": true
   },
   "outputs": [],
   "source": [
    "X_train = X[idx_train]\n",
    "X_test = X[idx_test]\n",
    "\n",
    "Y_train = Y_true[idx_train]\n",
    "Y_test = Y_true[idx_test]"
   ]
  },
  {
   "cell_type": "code",
   "execution_count": 19,
   "id": "d28db8c7",
   "metadata": {
    "scrolled": true
   },
   "outputs": [
    {
     "name": "stdout",
     "output_type": "stream",
     "text": [
      "X_train shape: (4920, 10, 128)\n",
      "X_test shape: (1231, 10, 128)\n",
      "Y_train shape: (4920, 6)\n",
      "Y_test shape: (1231, 6)\n"
     ]
    }
   ],
   "source": [
    "print(f'X_train shape: {X_train.shape}')\n",
    "print(f'X_test shape: {X_test.shape}')\n",
    "print(f'Y_train shape: {Y_train.shape}')\n",
    "print(f'Y_test shape: {Y_test.shape}')"
   ]
  },
  {
   "cell_type": "code",
   "execution_count": 20,
   "id": "0640707b",
   "metadata": {
    "scrolled": true,
    "tags": []
   },
   "outputs": [
    {
     "name": "stdout",
     "output_type": "stream",
     "text": [
      "----------------------------------------------------\n",
      "acousticguitar\n",
      "\tTRAIN\n",
      "              precision    recall  f1-score   support\n",
      "\n",
      "       False       0.79      1.00      0.88      3696\n",
      "        True       1.00      0.18      0.30      1224\n",
      "\n",
      "    accuracy                           0.80      4920\n",
      "   macro avg       0.89      0.59      0.59      4920\n",
      "weighted avg       0.84      0.80      0.74      4920\n",
      "\n",
      "\tTEST\n",
      "              precision    recall  f1-score   support\n",
      "\n",
      "       False       0.76      1.00      0.86       934\n",
      "        True       0.80      0.03      0.05       297\n",
      "\n",
      "    accuracy                           0.76      1231\n",
      "   macro avg       0.78      0.51      0.46      1231\n",
      "weighted avg       0.77      0.76      0.67      1231\n",
      "\n",
      "----------------------------------------------------\n",
      "bass\n",
      "\tTRAIN\n",
      "              precision    recall  f1-score   support\n",
      "\n",
      "       False       0.82      1.00      0.90      3938\n",
      "        True       1.00      0.11      0.19       982\n",
      "\n",
      "    accuracy                           0.82      4920\n",
      "   macro avg       0.91      0.55      0.55      4920\n",
      "weighted avg       0.85      0.82      0.76      4920\n",
      "\n",
      "\tTEST\n",
      "              precision    recall  f1-score   support\n",
      "\n",
      "       False       0.81      1.00      0.89       989\n",
      "        True       0.86      0.02      0.05       242\n",
      "\n",
      "    accuracy                           0.81      1231\n",
      "   macro avg       0.83      0.51      0.47      1231\n",
      "weighted avg       0.82      0.81      0.73      1231\n",
      "\n",
      "----------------------------------------------------\n",
      "drums\n",
      "\tTRAIN\n",
      "              precision    recall  f1-score   support\n",
      "\n",
      "       False       0.88      1.00      0.94      4290\n",
      "        True       1.00      0.10      0.18       630\n",
      "\n",
      "    accuracy                           0.88      4920\n",
      "   macro avg       0.94      0.55      0.56      4920\n",
      "weighted avg       0.90      0.88      0.84      4920\n",
      "\n",
      "\tTEST\n",
      "              precision    recall  f1-score   support\n",
      "\n",
      "       False       0.88      1.00      0.93      1081\n",
      "        True       0.33      0.01      0.03       150\n",
      "\n",
      "    accuracy                           0.88      1231\n",
      "   macro avg       0.61      0.50      0.48      1231\n",
      "weighted avg       0.81      0.88      0.82      1231\n",
      "\n",
      "----------------------------------------------------\n",
      "electricguitar\n",
      "\tTRAIN\n",
      "              precision    recall  f1-score   support\n",
      "\n",
      "       False       0.80      1.00      0.89      3849\n",
      "        True       1.00      0.08      0.14      1071\n",
      "\n",
      "    accuracy                           0.80      4920\n",
      "   macro avg       0.90      0.54      0.51      4920\n",
      "weighted avg       0.84      0.80      0.72      4920\n",
      "\n",
      "\tTEST\n",
      "              precision    recall  f1-score   support\n",
      "\n",
      "       False       0.79      1.00      0.88       966\n",
      "        True       0.73      0.03      0.06       265\n",
      "\n",
      "    accuracy                           0.79      1231\n",
      "   macro avg       0.76      0.51      0.47      1231\n",
      "weighted avg       0.78      0.79      0.70      1231\n",
      "\n",
      "----------------------------------------------------\n",
      "piano\n",
      "\tTRAIN\n",
      "              precision    recall  f1-score   support\n",
      "\n",
      "       False       0.90      1.00      0.95      4349\n",
      "        True       1.00      0.14      0.25       571\n",
      "\n",
      "    accuracy                           0.90      4920\n",
      "   macro avg       0.95      0.57      0.60      4920\n",
      "weighted avg       0.91      0.90      0.87      4920\n",
      "\n",
      "\tTEST\n",
      "              precision    recall  f1-score   support\n",
      "\n",
      "       False       0.87      1.00      0.93      1062\n",
      "        True       0.86      0.04      0.07       169\n",
      "\n",
      "    accuracy                           0.87      1231\n",
      "   macro avg       0.86      0.52      0.50      1231\n",
      "weighted avg       0.87      0.87      0.81      1231\n",
      "\n",
      "----------------------------------------------------\n",
      "voice\n",
      "\tTRAIN\n",
      "              precision    recall  f1-score   support\n",
      "\n",
      "       False       0.93      1.00      0.97      4478\n",
      "        True       1.00      0.28      0.44       442\n",
      "\n",
      "    accuracy                           0.94      4920\n",
      "   macro avg       0.97      0.64      0.70      4920\n",
      "weighted avg       0.94      0.94      0.92      4920\n",
      "\n",
      "\tTEST\n",
      "              precision    recall  f1-score   support\n",
      "\n",
      "       False       0.92      1.00      0.95      1123\n",
      "        True       0.67      0.04      0.07       108\n",
      "\n",
      "    accuracy                           0.91      1231\n",
      "   macro avg       0.79      0.52      0.51      1231\n",
      "weighted avg       0.89      0.91      0.88      1231\n",
      "\n"
     ]
    }
   ],
   "source": [
    "models = dict()\n",
    "\n",
    "for idx, instrument in enumerate(class_map):\n",
    "    train_inst = Y_train[:, idx]\n",
    "    test_inst = Y_test[:, idx]\n",
    "    \n",
    "    X_train_inst = X_train[train_inst == 1]  \n",
    "    X_train_other = X_train[train_inst != 1] \n",
    "    X_train_inst_sklearn = np.mean(X_train_inst, axis=1)\n",
    "    X_train_other_sklearn = np.mean(X_train_other, axis=1)\n",
    "    \n",
    "    Y_true_train_inst = np.ones(len(X_train_inst), dtype=bool)  \n",
    "    Y_true_train_other = np.zeros(len(X_train_other), dtype=bool)  \n",
    "    Y_true_train = np.concatenate((Y_true_train_inst, Y_true_train_other))\n",
    "    \n",
    "    X_test_inst = X_test[test_inst == 1]  \n",
    "    X_test_other = X_test[test_inst != 1]  \n",
    "    X_test_inst_sklearn = np.mean(X_test_inst, axis=1)\n",
    "    X_test_other_sklearn = np.mean(X_test_other, axis=1)\n",
    "    \n",
    "    Y_true_test_inst = np.ones(len(X_test_inst), dtype=bool)  \n",
    "    Y_true_test_other = np.zeros(len(X_test_other), dtype=bool)  \n",
    "    Y_true_test = np.concatenate((Y_true_test_inst, Y_true_test_other))\n",
    "\n",
    "    clf = RandomForestClassifier(max_depth=8, n_estimators=100, random_state=0)\n",
    "    \n",
    "    X_train_combined = np.concatenate((X_train_inst_sklearn, X_train_other_sklearn))\n",
    "    clf.fit(X_train_combined, Y_true_train)\n",
    "\n",
    "    Y_pred_train = clf.predict(X_train_combined)\n",
    "    Y_pred_test = clf.predict(np.concatenate((X_test_inst_sklearn, X_test_other_sklearn)))\n",
    "    \n",
    "    print('-' * 52)\n",
    "    print(instrument)\n",
    "    print('\\tTRAIN')\n",
    "    print(classification_report(Y_true_train, Y_pred_train))\n",
    "    print('\\tTEST')\n",
    "    print(classification_report(Y_true_test, Y_pred_test))\n",
    "    \n",
    "    models[instrument] = clf"
   ]
  },
  {
   "cell_type": "markdown",
   "id": "d8705b75-332b-42f3-a38b-85be1417c804",
   "metadata": {
    "tags": []
   },
   "source": [
    "## Other functions"
   ]
  },
  {
   "cell_type": "code",
   "execution_count": 24,
   "id": "f4ab8470",
   "metadata": {
    "scrolled": true
   },
   "outputs": [],
   "source": [
    "def remove_silence(y, sr):\n",
    "    db = librosa.core.amplitude_to_db(y)\n",
    "    mean_db = np.abs(db).mean()\n",
    "    splitted_audio = librosa.effects.split(y=y, top_db=mean_db)\n",
    "\n",
    "    silence_removed = []\n",
    "\n",
    "    for inter in splitted_audio:\n",
    "        silence_removed.extend(y[inter[0]:inter[1]])\n",
    "\n",
    "    return np.array(silence_removed)"
   ]
  },
  {
   "cell_type": "code",
   "execution_count": 25,
   "id": "97b3eab2",
   "metadata": {
    "scrolled": true
   },
   "outputs": [],
   "source": [
    "def get_segment(segment, split_duration, y, sr, duration):\n",
    "    start_time = segment * split_duration\n",
    "    end_time = min((segment + 1) * split_duration, duration)\n",
    "    start_sample = int(start_time * sr)\n",
    "    end_sample = int(end_time * sr)\n",
    "    return y[start_sample:end_sample]"
   ]
  },
  {
   "cell_type": "code",
   "execution_count": 26,
   "id": "1469596b",
   "metadata": {
    "scrolled": true
   },
   "outputs": [],
   "source": [
    "def split(y, sr, duration, split_duration=10):\n",
    "    num_segments = math.ceil(duration/split_duration)\n",
    "    segments = []\n",
    "\n",
    "    for segment in range(num_segments - 1):\n",
    "        splitted_track = get_segment(segment, split_duration, y, sr, duration)\n",
    "        segments.append(splitted_track)\n",
    "\n",
    "    return segments"
   ]
  },
  {
   "cell_type": "markdown",
   "id": "c1298941-a7a1-423a-9732-d394724a2792",
   "metadata": {},
   "source": [
    "# Avaliação"
   ]
  },
  {
   "cell_type": "code",
   "execution_count": 2,
   "id": "700ea9f9-a886-4182-afaa-3c1caffb24ca",
   "metadata": {},
   "outputs": [],
   "source": [
    "data = []"
   ]
  },
  {
   "cell_type": "markdown",
   "id": "f2d782c3-0d3e-41b4-a071-43d0a5948a51",
   "metadata": {
    "tags": []
   },
   "source": [
    "## Avaliando modelos Openmic em áudios do Nsynth"
   ]
  },
  {
   "cell_type": "code",
   "execution_count": 30,
   "id": "8fc1c28b-293e-482d-8d39-670dee7a84d3",
   "metadata": {
    "collapsed": true,
    "jupyter": {
     "outputs_hidden": true,
     "source_hidden": true
    },
    "scrolled": true,
    "tags": []
   },
   "outputs": [
    {
     "name": "stdout",
     "output_type": "stream",
     "text": [
      "track 0\n",
      "track 100\n",
      "track 200\n",
      "track 300\n",
      "track 400\n",
      "track 500\n",
      "track 600\n",
      "track 700\n",
      "track 800\n",
      "track 900\n",
      "track 1000\n",
      "track 1100\n",
      "track 1200\n",
      "track 1300\n",
      "track 1400\n",
      "track 1500\n",
      "track 1600\n",
      "track 1700\n",
      "track 1800\n",
      "track 1900\n",
      "track 2000\n",
      "track 2100\n",
      "track 2200\n",
      "track 2300\n",
      "track 2400\n",
      "track 2500\n",
      "track 2600\n",
      "track 2700\n",
      "track 2800\n",
      "track 2900\n",
      "track 3000\n",
      "track 3100\n",
      "track 3200\n",
      "track 3300\n",
      "track 3400\n",
      "track 3500\n",
      "track 3600\n",
      "track 3700\n",
      "track 3800\n",
      "track 3900\n",
      "633 correct assignments and 3367 wrong.\n"
     ]
    }
   ],
   "source": [
    "correct = 0 \n",
    "\n",
    "for idx, sample in enumerate(X_ns):\n",
    "    probs = []\n",
    "    feature_mean = np.mean(sample, axis=0, keepdims=True)\n",
    "    \n",
    "    for instrument in inst_openmic_nsynth:\n",
    "        with open(f'openmic/models/{instrument}.pkl', 'rb') as f:\n",
    "            clf = pickle.load(f)\n",
    "        prob = clf.predict_proba(feature_mean)[0, 1]\n",
    "        probs.append((instrument, prob))\n",
    "    max_prob = max(probs, key=lambda x: x[1])\n",
    "    inst = df_nsynth[df_nsynth['track_id'] == track_id_ns[idx]]['instrument'].values[0]\n",
    "    \n",
    "    if max_prob[0] == 'voice' and inst == 'vocal':\n",
    "        correct += 1\n",
    "    elif max_prob[0] == 'synthesizer' and inst == 'piano':\n",
    "        correct += 1\n",
    "    elif max_prob[0] == inst:\n",
    "        correct += 1\n",
    "    if idx % 100 == 0:\n",
    "        # print(f'track {idx}: guessed {max_prob} and it was {inst}')\n",
    "        print(f'track {idx}')\n",
    "        \n",
    "print(f'{correct} correct assignments and {len(track_id_ns) - correct} wrong.')"
   ]
  },
  {
   "cell_type": "code",
   "execution_count": 3,
   "id": "3acdd53b-66e1-43f8-83ec-02f40ee619aa",
   "metadata": {},
   "outputs": [
    {
     "data": {
      "text/html": [
       "<div>\n",
       "<style scoped>\n",
       "    .dataframe tbody tr th:only-of-type {\n",
       "        vertical-align: middle;\n",
       "    }\n",
       "\n",
       "    .dataframe tbody tr th {\n",
       "        vertical-align: top;\n",
       "    }\n",
       "\n",
       "    .dataframe thead th {\n",
       "        text-align: right;\n",
       "    }\n",
       "</style>\n",
       "<table border=\"1\" class=\"dataframe\">\n",
       "  <thead>\n",
       "    <tr style=\"text-align: right;\">\n",
       "      <th></th>\n",
       "      <th>track_id</th>\n",
       "      <th>instrument</th>\n",
       "      <th>predicted</th>\n",
       "    </tr>\n",
       "  </thead>\n",
       "  <tbody>\n",
       "    <tr>\n",
       "      <th>0</th>\n",
       "      <td>keyboard_electronic_008-067-075</td>\n",
       "      <td>synthesizer</td>\n",
       "      <td>synthesizer</td>\n",
       "    </tr>\n",
       "    <tr>\n",
       "      <th>1</th>\n",
       "      <td>keyboard_acoustic_009-073-127</td>\n",
       "      <td>synthesizer</td>\n",
       "      <td>guitar</td>\n",
       "    </tr>\n",
       "    <tr>\n",
       "      <th>2</th>\n",
       "      <td>keyboard_electronic_109-056-100</td>\n",
       "      <td>synthesizer</td>\n",
       "      <td>synthesizer</td>\n",
       "    </tr>\n",
       "    <tr>\n",
       "      <th>3</th>\n",
       "      <td>keyboard_electronic_059-094-025</td>\n",
       "      <td>synthesizer</td>\n",
       "      <td>synthesizer</td>\n",
       "    </tr>\n",
       "    <tr>\n",
       "      <th>4</th>\n",
       "      <td>keyboard_electronic_005-069-025</td>\n",
       "      <td>synthesizer</td>\n",
       "      <td>synthesizer</td>\n",
       "    </tr>\n",
       "  </tbody>\n",
       "</table>\n",
       "</div>"
      ],
      "text/plain": [
       "                          track_id   instrument    predicted\n",
       "0  keyboard_electronic_008-067-075  synthesizer  synthesizer\n",
       "1    keyboard_acoustic_009-073-127  synthesizer       guitar\n",
       "2  keyboard_electronic_109-056-100  synthesizer  synthesizer\n",
       "3  keyboard_electronic_059-094-025  synthesizer  synthesizer\n",
       "4  keyboard_electronic_005-069-025  synthesizer  synthesizer"
      ]
     },
     "execution_count": 3,
     "metadata": {},
     "output_type": "execute_result"
    }
   ],
   "source": [
    "predicted_nsynth = pd.read_csv('nsynth/nsynth_instruments.csv')\n",
    "predicted_nsynth.head()"
   ]
  },
  {
   "cell_type": "code",
   "execution_count": 4,
   "id": "0edc870f-5be1-4e82-9064-2532a14efb75",
   "metadata": {},
   "outputs": [
    {
     "data": {
      "text/plain": [
       "array(['bass', 'guitar', 'synthesizer', 'voice'], dtype=object)"
      ]
     },
     "execution_count": 4,
     "metadata": {},
     "output_type": "execute_result"
    }
   ],
   "source": [
    "np.unique(predicted_nsynth['instrument'])"
   ]
  },
  {
   "cell_type": "code",
   "execution_count": 5,
   "id": "cf10e00b-8092-460f-a2c0-d870fe37f49f",
   "metadata": {},
   "outputs": [
    {
     "data": {
      "text/plain": [
       "array(['bass', 'guitar', 'synthesizer', 'voice'], dtype=object)"
      ]
     },
     "execution_count": 5,
     "metadata": {},
     "output_type": "execute_result"
    }
   ],
   "source": [
    "np.unique(predicted_nsynth['predicted'])"
   ]
  },
  {
   "cell_type": "code",
   "execution_count": 6,
   "id": "086e434a-0be5-4a4b-a8ba-937503c21633",
   "metadata": {},
   "outputs": [],
   "source": [
    "y_true_n = predicted_nsynth['instrument']\n",
    "y_pred_n = predicted_nsynth['predicted']"
   ]
  },
  {
   "cell_type": "code",
   "execution_count": 7,
   "id": "9d0219ec-7ba1-40d3-9213-913f62c139e9",
   "metadata": {},
   "outputs": [
    {
     "name": "stdout",
     "output_type": "stream",
     "text": [
      "Classe bass: Precision=0.8, Recall=0.008, F1-Score=0.015841584158415842\n",
      "Classe guitar: Precision=0.20708154506437768, Recall=0.193, F1-Score=0.1997929606625259\n",
      "Classe synthesizer: Precision=0.3446694688574704, Recall=0.902, F1-Score=0.49875587503455904\n",
      "Classe voice: Precision=0.9954648526077098, Recall=0.439, F1-Score=0.6092990978487162\n"
     ]
    }
   ],
   "source": [
    "classes_n = np.unique(y_true_n)\n",
    "precision_n = precision_score(y_true_n, y_pred_n, average=None)\n",
    "recall_n = recall_score(y_true_n, y_pred_n, average=None)\n",
    "f1_n = f1_score(y_true_n, y_pred_n, average=None)\n",
    "\n",
    "for class_label, prec, rec, f1_score_val in zip(classes_n, precision_n, recall_n, f1_n):\n",
    "    print(f\"Classe {class_label}: Precision={prec}, Recall={rec}, F1-Score={f1_score_val}\")\n",
    "    data.append({'instrument': class_label, 'dataset': 'NSynth', 'F1-Score': f1_score_val})\n",
    "data.insert(1, {'instrument': 'drums', 'dataset': 'NSynth', 'F1-Score': 0})\n",
    "data.insert(3, {'instrument': 'piano', 'dataset': 'NSynth', 'F1-Score': 0})"
   ]
  },
  {
   "cell_type": "markdown",
   "id": "ac1c1bc4",
   "metadata": {
    "tags": []
   },
   "source": [
    "## Avaliando modelos Openmic em áudios do MTG-Jamendo"
   ]
  },
  {
   "cell_type": "code",
   "execution_count": null,
   "id": "b3cf9905",
   "metadata": {
    "jupyter": {
     "source_hidden": true
    },
    "scrolled": true,
    "tags": []
   },
   "outputs": [],
   "source": [
    "correct = 0\n",
    "\n",
    "for idx, sample in enumerate(X_j):\n",
    "    probs = []\n",
    "    feature_mean = np.mean(sample, axis=0, keepdims=True)\n",
    "    \n",
    "    for instrument in inst_openmic:\n",
    "        with open(f'openmic/models/{instrument}.pkl', 'rb') as f:\n",
    "            clf = pickle.load(f)\n",
    "        prob = clf.predict_proba(feature_mean)[0, 1]\n",
    "        probs.append((instrument, prob))\n",
    "        \n",
    "    max_prob = max(probs, key=lambda x: x[1])\n",
    "    inst = df_jamendo[df_jamendo['track_id'] == track_id_j[idx]]['instrument'].values[0]\n",
    "    \n",
    "    if max_prob[0] == 'guitar' and (inst == 'acousticguitar' or inst == 'electricguitar'):\n",
    "        correct += 1\n",
    "    elif max_prob[0] == inst:\n",
    "        correct += 1\n",
    "    if idx % 100 == 0:\n",
    "        # print(f'track {idx}: guessed {max_prob} and it was {inst}')\n",
    "        print(f'track {idx}')\n",
    "        \n",
    "print(f'{correct} correct assignments and {len(track_id_j) - correct} wrong.')"
   ]
  },
  {
   "cell_type": "code",
   "execution_count": 8,
   "id": "1d6b9fb1-aaa6-4d86-8703-211cd7d8905b",
   "metadata": {},
   "outputs": [
    {
     "data": {
      "text/html": [
       "<div>\n",
       "<style scoped>\n",
       "    .dataframe tbody tr th:only-of-type {\n",
       "        vertical-align: middle;\n",
       "    }\n",
       "\n",
       "    .dataframe tbody tr th {\n",
       "        vertical-align: top;\n",
       "    }\n",
       "\n",
       "    .dataframe thead th {\n",
       "        text-align: right;\n",
       "    }\n",
       "</style>\n",
       "<table border=\"1\" class=\"dataframe\">\n",
       "  <thead>\n",
       "    <tr style=\"text-align: right;\">\n",
       "      <th></th>\n",
       "      <th>track_id</th>\n",
       "      <th>instrument</th>\n",
       "      <th>predicted</th>\n",
       "    </tr>\n",
       "  </thead>\n",
       "  <tbody>\n",
       "    <tr>\n",
       "      <th>0</th>\n",
       "      <td>track_0151154</td>\n",
       "      <td>piano</td>\n",
       "      <td>piano</td>\n",
       "    </tr>\n",
       "    <tr>\n",
       "      <th>1</th>\n",
       "      <td>track_1142627</td>\n",
       "      <td>piano</td>\n",
       "      <td>piano</td>\n",
       "    </tr>\n",
       "    <tr>\n",
       "      <th>2</th>\n",
       "      <td>track_1400502</td>\n",
       "      <td>piano</td>\n",
       "      <td>piano</td>\n",
       "    </tr>\n",
       "    <tr>\n",
       "      <th>3</th>\n",
       "      <td>track_0491052</td>\n",
       "      <td>piano</td>\n",
       "      <td>piano</td>\n",
       "    </tr>\n",
       "    <tr>\n",
       "      <th>4</th>\n",
       "      <td>track_0944140</td>\n",
       "      <td>piano</td>\n",
       "      <td>piano</td>\n",
       "    </tr>\n",
       "  </tbody>\n",
       "</table>\n",
       "</div>"
      ],
      "text/plain": [
       "        track_id instrument predicted\n",
       "0  track_0151154      piano     piano\n",
       "1  track_1142627      piano     piano\n",
       "2  track_1400502      piano     piano\n",
       "3  track_0491052      piano     piano\n",
       "4  track_0944140      piano     piano"
      ]
     },
     "execution_count": 8,
     "metadata": {},
     "output_type": "execute_result"
    }
   ],
   "source": [
    "predicted_jamendo = pd.read_csv('mtg-jamendo/predicted_instruments.csv')\n",
    "predicted_jamendo.head()"
   ]
  },
  {
   "cell_type": "code",
   "execution_count": 9,
   "id": "e2f02e19-5da2-481b-98a3-ffd24f2f28e0",
   "metadata": {},
   "outputs": [
    {
     "data": {
      "text/plain": [
       "array(['bass', 'drums', 'guitar', 'piano', 'voice'], dtype=object)"
      ]
     },
     "execution_count": 9,
     "metadata": {},
     "output_type": "execute_result"
    }
   ],
   "source": [
    "np.unique(predicted_jamendo['instrument'])"
   ]
  },
  {
   "cell_type": "code",
   "execution_count": 10,
   "id": "08f38ff9-0a0a-4c13-9c2c-adaa3c6a4ab4",
   "metadata": {},
   "outputs": [
    {
     "data": {
      "text/plain": [
       "array(['bass', 'drums', 'guitar', 'piano', 'voice'], dtype=object)"
      ]
     },
     "execution_count": 10,
     "metadata": {},
     "output_type": "execute_result"
    }
   ],
   "source": [
    "np.unique(predicted_jamendo['predicted'])"
   ]
  },
  {
   "cell_type": "code",
   "execution_count": 11,
   "id": "152f2e13-f04f-4372-965d-106f1a65f357",
   "metadata": {},
   "outputs": [],
   "source": [
    "y_true_j = predicted_jamendo['instrument']\n",
    "y_pred_j = predicted_jamendo['predicted']"
   ]
  },
  {
   "cell_type": "code",
   "execution_count": 12,
   "id": "0dedd584-3d86-4203-ac63-ddd5149f3659",
   "metadata": {},
   "outputs": [
    {
     "name": "stdout",
     "output_type": "stream",
     "text": [
      "Classe bass: Precision=0.25, Recall=0.008130081300813009, F1-Score=0.015748031496062995\n",
      "Classe drums: Precision=0.24444444444444444, Recall=0.5605095541401274, F1-Score=0.3404255319148936\n",
      "Classe guitar: Precision=0.7982456140350878, Recall=0.6330434782608696, F1-Score=0.7061105722599419\n",
      "Classe piano: Precision=0.6555555555555556, Recall=0.7866666666666666, F1-Score=0.7151515151515152\n",
      "Classe voice: Precision=0.3135593220338983, Recall=0.6607142857142857, F1-Score=0.42528735632183906\n"
     ]
    }
   ],
   "source": [
    "classes_j = np.unique(y_true_j)\n",
    "precision_j = precision_score(y_true_j, y_pred_j, average=None)\n",
    "recall_j = recall_score(y_true_j, y_pred_j, average=None)\n",
    "f1_j = f1_score(y_true_j, y_pred_j, average=None)\n",
    "\n",
    "for class_label, prec, rec, f1_score_val in zip(classes_j, precision_j, recall_j, f1_j):\n",
    "    print(f\"Classe {class_label}: Precision={prec}, Recall={rec}, F1-Score={f1_score_val}\")\n",
    "    data.append({'instrument': class_label, 'dataset': 'MTG-Jamendo', 'F1-Score': f1_score_val})\n",
    "data.insert(10, {'instrument': 'synthesizer', 'dataset': 'MTG-Jamendo', 'F1-Score': 0})"
   ]
  },
  {
   "cell_type": "markdown",
   "id": "a0cd1a11-e4e2-4c7f-bfae-f1902ba075dc",
   "metadata": {
    "tags": []
   },
   "source": [
    "## Avaliando modelos Openmic em áudios do Demucs"
   ]
  },
  {
   "cell_type": "code",
   "execution_count": 13,
   "id": "b5f7dcde-f41a-434a-b033-80f478ecc423",
   "metadata": {},
   "outputs": [
    {
     "data": {
      "text/html": [
       "<div>\n",
       "<style scoped>\n",
       "    .dataframe tbody tr th:only-of-type {\n",
       "        vertical-align: middle;\n",
       "    }\n",
       "\n",
       "    .dataframe tbody tr th {\n",
       "        vertical-align: top;\n",
       "    }\n",
       "\n",
       "    .dataframe thead th {\n",
       "        text-align: right;\n",
       "    }\n",
       "</style>\n",
       "<table border=\"1\" class=\"dataframe\">\n",
       "  <thead>\n",
       "    <tr style=\"text-align: right;\">\n",
       "      <th></th>\n",
       "      <th>track_id</th>\n",
       "      <th>instrument</th>\n",
       "      <th>predicted</th>\n",
       "    </tr>\n",
       "  </thead>\n",
       "  <tbody>\n",
       "    <tr>\n",
       "      <th>0</th>\n",
       "      <td>bass_the-less-i-know-the-better.wav</td>\n",
       "      <td>bass</td>\n",
       "      <td>drums</td>\n",
       "    </tr>\n",
       "    <tr>\n",
       "      <th>1</th>\n",
       "      <td>piano_la-clairiere.wav</td>\n",
       "      <td>piano</td>\n",
       "      <td>piano</td>\n",
       "    </tr>\n",
       "    <tr>\n",
       "      <th>2</th>\n",
       "      <td>piano_clair-de-lune.wav</td>\n",
       "      <td>piano</td>\n",
       "      <td>piano</td>\n",
       "    </tr>\n",
       "    <tr>\n",
       "      <th>3</th>\n",
       "      <td>drums_bohemian-rhapsody.wav</td>\n",
       "      <td>drums</td>\n",
       "      <td>drums</td>\n",
       "    </tr>\n",
       "    <tr>\n",
       "      <th>4</th>\n",
       "      <td>guitar_the-less-i-know-the-better.wav</td>\n",
       "      <td>guitar</td>\n",
       "      <td>guitar</td>\n",
       "    </tr>\n",
       "  </tbody>\n",
       "</table>\n",
       "</div>"
      ],
      "text/plain": [
       "                                track_id instrument predicted\n",
       "0    bass_the-less-i-know-the-better.wav       bass     drums\n",
       "1                 piano_la-clairiere.wav      piano     piano\n",
       "2                piano_clair-de-lune.wav      piano     piano\n",
       "3            drums_bohemian-rhapsody.wav      drums     drums\n",
       "4  guitar_the-less-i-know-the-better.wav     guitar    guitar"
      ]
     },
     "execution_count": 13,
     "metadata": {},
     "output_type": "execute_result"
    }
   ],
   "source": [
    "predicted_demucs = pd.read_csv('separated/predicted_instruments.csv')\n",
    "predicted_demucs.loc[predicted_demucs['instrument'] == 'vocals', 'instrument'] = 'voice'\n",
    "predicted_demucs.loc[predicted_demucs['predicted'] == 'vocals', 'predicted'] = 'voice'\n",
    "predicted_demucs.head()"
   ]
  },
  {
   "cell_type": "code",
   "execution_count": 14,
   "id": "8ed9f1e6-473a-4598-a5e4-a25f70bf56d9",
   "metadata": {},
   "outputs": [
    {
     "data": {
      "text/plain": [
       "array(['bass', 'drums', 'guitar', 'piano', 'voice'], dtype=object)"
      ]
     },
     "execution_count": 14,
     "metadata": {},
     "output_type": "execute_result"
    }
   ],
   "source": [
    "np.unique(predicted_demucs['instrument'])"
   ]
  },
  {
   "cell_type": "code",
   "execution_count": 15,
   "id": "f4d1283d-2465-49e3-93cc-d2afd20403d4",
   "metadata": {},
   "outputs": [
    {
     "data": {
      "text/plain": [
       "array(['bass', 'drums', 'guitar', 'piano', 'voice'], dtype=object)"
      ]
     },
     "execution_count": 15,
     "metadata": {},
     "output_type": "execute_result"
    }
   ],
   "source": [
    "np.unique(predicted_demucs['predicted'])"
   ]
  },
  {
   "cell_type": "code",
   "execution_count": 16,
   "id": "08039d7f-16cc-4c85-b8d2-aca2d232772d",
   "metadata": {},
   "outputs": [],
   "source": [
    "y_true_d = predicted_demucs['instrument']\n",
    "y_pred_d = predicted_demucs['predicted']"
   ]
  },
  {
   "cell_type": "code",
   "execution_count": 17,
   "id": "be067f83-4c12-4bbc-9087-d34d03617575",
   "metadata": {},
   "outputs": [
    {
     "name": "stdout",
     "output_type": "stream",
     "text": [
      "Classe bass: Precision=1.0, Recall=0.2, F1-Score=0.33333333333333337\n",
      "Classe drums: Precision=0.5555555555555556, Recall=1.0, F1-Score=0.7142857142857143\n",
      "Classe guitar: Precision=1.0, Recall=1.0, F1-Score=1.0\n",
      "Classe piano: Precision=1.0, Recall=1.0, F1-Score=1.0\n",
      "Classe voice: Precision=1.0, Recall=1.0, F1-Score=1.0\n"
     ]
    }
   ],
   "source": [
    "classes_d = np.unique(y_true_d)\n",
    "precision_d = precision_score(y_true_d, y_pred_d, average=None)\n",
    "recall_d = recall_score(y_true_d, y_pred_d, average=None)\n",
    "f1_d = f1_score(y_true_d, y_pred_d, average=None)\n",
    "\n",
    "for class_label, prec, rec, f1_score_val in zip(classes_d, precision_d, recall_d, f1_d):\n",
    "    print(f\"Classe {class_label}: Precision={prec}, Recall={rec}, F1-Score={f1_score_val}\")\n",
    "    data.append({'instrument': class_label, 'dataset': 'Demucs', 'F1-Score': f1_score_val})\n",
    "data.insert(16, {'instrument': 'synthesizer', 'dataset': 'Demucs', 'F1-Score': 0})"
   ]
  },
  {
   "cell_type": "markdown",
   "id": "874e7550-4c81-486e-bf2e-7f49e8c715aa",
   "metadata": {},
   "source": [
    "## Gráficos"
   ]
  },
  {
   "cell_type": "code",
   "execution_count": 31,
   "id": "5245bef6-d95f-4a50-9281-4ba9e89549ac",
   "metadata": {},
   "outputs": [
    {
     "data": {
      "image/png": "[encoded data removed]",
      "text/plain": [
       "<Figure size 1000x500 with 1 Axes>"
      ]
     },
     "metadata": {},
     "output_type": "display_data"
    }
   ],
   "source": [
    "# plt.switch_backend('Agg')\n",
    "\n",
    "instruments = ['bass', 'drums', 'guitar', 'piano', 'synthesizer', 'voice']\n",
    "\n",
    "dataset1 = [d['F1-Score'] for d in data if d['dataset'] == 'NSynth']\n",
    "dataset2 = [d['F1-Score'] for d in data if d['dataset'] == 'MTG-Jamendo']\n",
    "dataset3 = [d['F1-Score'] for d in data if d['dataset'] == 'Demucs']\n",
    "f1_scores = [dataset1, dataset2, dataset3]\n",
    "\n",
    "bar_width = 0.2\n",
    "\n",
    "r1 = np.arange(len(instruments))\n",
    "r2 = [x + bar_width for x in r1]\n",
    "r3 = [x + 2 * bar_width for x in r1]\n",
    "\n",
    "plt.figure(figsize=(10,5))\n",
    "\n",
    "plt.bar(r1, dataset1, color='#7570b3', width=bar_width, edgecolor='black', label='NSynth', alpha=0.95)\n",
    "plt.bar(r2, dataset2, color='#d95f02', width=bar_width, edgecolor='black', label='MTG-Jamendo', alpha=0.95)\n",
    "plt.bar(r3, dataset3, color='#1b9e77', width=bar_width, edgecolor='black', label='Demucs', alpha=0.95)\n",
    "\n",
    "plt.xlabel('Instrument')\n",
    "plt.ylabel('F1-Score')\n",
    "plt.title('F1-Score by Instrument and Dataset')\n",
    "\n",
    "plt.xticks(r1 + bar_width, instruments)\n",
    "\n",
    "for i, dataset in enumerate(f1_scores):\n",
    "    for j, score in enumerate(dataset):\n",
    "        plt.text(r1[j] + (i * bar_width), score + 0.01, str(round(score, 2)), ha='center', fontsize=8)\n",
    "\n",
    "plt.legend()\n",
    "plt.show()\n",
    "# plt.savefig('images/f1-score.png')"
   ]
  },
  {
   "cell_type": "code",
   "execution_count": 41,
   "id": "523febab-a77b-4d89-9f32-9d73a9d9930e",
   "metadata": {},
   "outputs": [
    {
     "data": {
      "text/plain": [
       "0"
      ]
     },
     "execution_count": 41,
     "metadata": {},
     "output_type": "execute_result"
    }
   ],
   "source": [
    "v1 = dataset1.copy()\n",
    "v1.pop(1)\n",
    "v1.pop(2)\n",
    "\n",
    "v2 = dataset2.copy()\n",
    "v2.pop(4)\n",
    "\n",
    "v3 = dataset3.copy()\n",
    "v3.pop(4)"
   ]
  },
  {
   "cell_type": "code",
   "execution_count": 40,
   "id": "8f038ab7-e927-4240-b176-1b29e9423dc6",
   "metadata": {},
   "outputs": [
    {
     "name": "stdout",
     "output_type": "stream",
     "text": [
      "0.33092237942605424\n",
      "0.4405446014288506\n",
      "0.8095238095238095\n"
     ]
    }
   ],
   "source": [
    "print(np.mean(v1))\n",
    "print(np.mean(v2))\n",
    "print(np.mean(v3))"
   ]
  },
  {
   "cell_type": "code",
   "execution_count": 44,
   "id": "167cc3b2-680a-4347-a86d-5e1ee8a298c5",
   "metadata": {},
   "outputs": [],
   "source": [
    "cm = confusion_matrix(y_true_d, y_pred_d)\n",
    "insts = np.unique(predicted_demucs['instrument'])"
   ]
  },
  {
   "cell_type": "code",
   "execution_count": 52,
   "id": "b2bcb3cd-e303-4693-ada0-777825d5dc59",
   "metadata": {},
   "outputs": [
    {
     "data": {
      "image/png": "[encoded data removed]",
      "text/plain": [
       "<Figure size 640x480 with 2 Axes>"
      ]
     },
     "metadata": {},
     "output_type": "display_data"
    }
   ],
   "source": [
    "df_cm = pd.DataFrame(confusion_matrix(y_true_d, y_pred_d), index=insts, columns=insts)\n",
    "#plt.figure(figsize = (10,7))\n",
    "sns.set(font_scale=1.0)\n",
    "sns.heatmap(df_cm, annot=True, annot_kws={'size': 10}, fmt='g')\n",
    "\n",
    "plt.show()\n"
   ]
  },
  {
   "cell_type": "markdown",
   "id": "a94d50fd-084b-4b1a-a833-2db9516bd526",
   "metadata": {
    "jp-MarkdownHeadingCollapsed": true,
    "tags": []
   },
   "source": [
    "## Avaliando modelos Openmic em áudios com separação de instrumentos"
   ]
  },
  {
   "cell_type": "code",
   "execution_count": 22,
   "id": "c53a1950-7c3d-4cd7-b516-9d26efdc7692",
   "metadata": {},
   "outputs": [],
   "source": [
    "audio, sr = librosa.load('separated/htdemucs_6s/come-a-little-closer-official-video/vocals.wav')\n",
    "audio_splitted = remove_silence(audio, sr)\n",
    "dur = librosa.get_duration(y=audio_splitted, sr=sr)\n",
    "segments = split(audio_splitted, sr, dur, split_duration=5)"
   ]
  },
  {
   "cell_type": "code",
   "execution_count": 23,
   "id": "f84dae5e-0202-43da-a8b3-3711b049774b",
   "metadata": {
    "scrolled": true,
    "tags": []
   },
   "outputs": [
    {
     "name": "stdout",
     "output_type": "stream",
     "text": [
      "INFO:tensorflow:Restoring parameters from /home/gabs/Documents/tcc/vggish/vggish/_model/vggish_model.ckpt\n",
      "INFO:tensorflow:Restoring parameters from /home/gabs/Documents/tcc/vggish/vggish/_model/vggish_model.ckpt\n",
      "INFO:tensorflow:Restoring parameters from /home/gabs/Documents/tcc/vggish/vggish/_model/vggish_model.ckpt\n",
      "INFO:tensorflow:Restoring parameters from /home/gabs/Documents/tcc/vggish/vggish/_model/vggish_model.ckpt\n",
      "INFO:tensorflow:Restoring parameters from /home/gabs/Documents/tcc/vggish/vggish/_model/vggish_model.ckpt\n",
      "INFO:tensorflow:Restoring parameters from /home/gabs/Documents/tcc/vggish/vggish/_model/vggish_model.ckpt\n",
      "INFO:tensorflow:Restoring parameters from /home/gabs/Documents/tcc/vggish/vggish/_model/vggish_model.ckpt\n",
      "INFO:tensorflow:Restoring parameters from /home/gabs/Documents/tcc/vggish/vggish/_model/vggish_model.ckpt\n",
      "INFO:tensorflow:Restoring parameters from /home/gabs/Documents/tcc/vggish/vggish/_model/vggish_model.ckpt\n",
      "INFO:tensorflow:Restoring parameters from /home/gabs/Documents/tcc/vggish/vggish/_model/vggish_model.ckpt\n",
      "INFO:tensorflow:Restoring parameters from /home/gabs/Documents/tcc/vggish/vggish/_model/vggish_model.ckpt\n",
      "INFO:tensorflow:Restoring parameters from /home/gabs/Documents/tcc/vggish/vggish/_model/vggish_model.ckpt\n",
      "INFO:tensorflow:Restoring parameters from /home/gabs/Documents/tcc/vggish/vggish/_model/vggish_model.ckpt\n",
      "INFO:tensorflow:Restoring parameters from /home/gabs/Documents/tcc/vggish/vggish/_model/vggish_model.ckpt\n",
      "INFO:tensorflow:Restoring parameters from /home/gabs/Documents/tcc/vggish/vggish/_model/vggish_model.ckpt\n",
      "INFO:tensorflow:Restoring parameters from /home/gabs/Documents/tcc/vggish/vggish/_model/vggish_model.ckpt\n",
      "INFO:tensorflow:Restoring parameters from /home/gabs/Documents/tcc/vggish/vggish/_model/vggish_model.ckpt\n",
      "INFO:tensorflow:Restoring parameters from /home/gabs/Documents/tcc/vggish/vggish/_model/vggish_model.ckpt\n",
      "INFO:tensorflow:Restoring parameters from /home/gabs/Documents/tcc/vggish/vggish/_model/vggish_model.ckpt\n",
      "INFO:tensorflow:Restoring parameters from /home/gabs/Documents/tcc/vggish/vggish/_model/vggish_model.ckpt\n",
      "INFO:tensorflow:Restoring parameters from /home/gabs/Documents/tcc/vggish/vggish/_model/vggish_model.ckpt\n",
      "INFO:tensorflow:Restoring parameters from /home/gabs/Documents/tcc/vggish/vggish/_model/vggish_model.ckpt\n",
      "INFO:tensorflow:Restoring parameters from /home/gabs/Documents/tcc/vggish/vggish/_model/vggish_model.ckpt\n",
      "INFO:tensorflow:Restoring parameters from /home/gabs/Documents/tcc/vggish/vggish/_model/vggish_model.ckpt\n",
      "INFO:tensorflow:Restoring parameters from /home/gabs/Documents/tcc/vggish/vggish/_model/vggish_model.ckpt\n",
      "INFO:tensorflow:Restoring parameters from /home/gabs/Documents/tcc/vggish/vggish/_model/vggish_model.ckpt\n",
      "INFO:tensorflow:Restoring parameters from /home/gabs/Documents/tcc/vggish/vggish/_model/vggish_model.ckpt\n",
      "INFO:tensorflow:Restoring parameters from /home/gabs/Documents/tcc/vggish/vggish/_model/vggish_model.ckpt\n",
      "INFO:tensorflow:Restoring parameters from /home/gabs/Documents/tcc/vggish/vggish/_model/vggish_model.ckpt\n",
      "INFO:tensorflow:Restoring parameters from /home/gabs/Documents/tcc/vggish/vggish/_model/vggish_model.ckpt\n",
      "INFO:tensorflow:Restoring parameters from /home/gabs/Documents/tcc/vggish/vggish/_model/vggish_model.ckpt\n",
      "INFO:tensorflow:Restoring parameters from /home/gabs/Documents/tcc/vggish/vggish/_model/vggish_model.ckpt\n",
      "INFO:tensorflow:Restoring parameters from /home/gabs/Documents/tcc/vggish/vggish/_model/vggish_model.ckpt\n",
      "INFO:tensorflow:Restoring parameters from /home/gabs/Documents/tcc/vggish/vggish/_model/vggish_model.ckpt\n",
      "INFO:tensorflow:Restoring parameters from /home/gabs/Documents/tcc/vggish/vggish/_model/vggish_model.ckpt\n",
      "33 correct assignments and 2 wrong.\n"
     ]
    }
   ],
   "source": [
    "correct = 0\n",
    "\n",
    "for segment in segments:\n",
    "    _, features = vggish.waveform_to_features(segment, sr)\n",
    "    feature_mean = np.mean(features, axis=0, keepdims=True)\n",
    "    probs = []\n",
    "    \n",
    "    for instrument in instruments_openmic:\n",
    "        with open(f'openmic/models/{instrument}.pkl', 'rb') as f:\n",
    "            clf = pickle.load(f)\n",
    "        prob = clf.predict_proba(feature_mean)[0,1]\n",
    "        probs.append((instrument, prob))\n",
    "        \n",
    "    max_prob = max(probs, key=lambda x: x[1])\n",
    "    \n",
    "    if max_prob[0] == 'voice':\n",
    "        correct += 1\n",
    "\n",
    "print(f'{correct} correct assignments and {len(segments) - correct} wrong.')"
   ]
  },
  {
   "cell_type": "code",
   "execution_count": 42,
   "id": "fedc623f-4fc0-43eb-a3c5-562487a53c02",
   "metadata": {},
   "outputs": [],
   "source": [
    "audio, sr = librosa.load('separated/htdemucs_6s/nothing_else_matters/vocals.wav')\n",
    "audio_splitted = remove_silence(audio, sr)\n",
    "dur = librosa.get_duration(y=audio_splitted, sr=sr)\n",
    "segments = split(audio_splitted, sr, dur, split_duration=5)"
   ]
  },
  {
   "cell_type": "code",
   "execution_count": 43,
   "id": "4dabd906-8a8e-428d-93b9-e0cd50273d7a",
   "metadata": {
    "scrolled": true,
    "tags": []
   },
   "outputs": [
    {
     "name": "stdout",
     "output_type": "stream",
     "text": [
      "INFO:tensorflow:Restoring parameters from /home/gabs/Documents/tcc/vggish/vggish/_model/vggish_model.ckpt\n",
      "INFO:tensorflow:Restoring parameters from /home/gabs/Documents/tcc/vggish/vggish/_model/vggish_model.ckpt\n",
      "INFO:tensorflow:Restoring parameters from /home/gabs/Documents/tcc/vggish/vggish/_model/vggish_model.ckpt\n",
      "INFO:tensorflow:Restoring parameters from /home/gabs/Documents/tcc/vggish/vggish/_model/vggish_model.ckpt\n",
      "INFO:tensorflow:Restoring parameters from /home/gabs/Documents/tcc/vggish/vggish/_model/vggish_model.ckpt\n",
      "INFO:tensorflow:Restoring parameters from /home/gabs/Documents/tcc/vggish/vggish/_model/vggish_model.ckpt\n",
      "INFO:tensorflow:Restoring parameters from /home/gabs/Documents/tcc/vggish/vggish/_model/vggish_model.ckpt\n",
      "INFO:tensorflow:Restoring parameters from /home/gabs/Documents/tcc/vggish/vggish/_model/vggish_model.ckpt\n",
      "INFO:tensorflow:Restoring parameters from /home/gabs/Documents/tcc/vggish/vggish/_model/vggish_model.ckpt\n",
      "INFO:tensorflow:Restoring parameters from /home/gabs/Documents/tcc/vggish/vggish/_model/vggish_model.ckpt\n",
      "INFO:tensorflow:Restoring parameters from /home/gabs/Documents/tcc/vggish/vggish/_model/vggish_model.ckpt\n",
      "INFO:tensorflow:Restoring parameters from /home/gabs/Documents/tcc/vggish/vggish/_model/vggish_model.ckpt\n",
      "INFO:tensorflow:Restoring parameters from /home/gabs/Documents/tcc/vggish/vggish/_model/vggish_model.ckpt\n",
      "INFO:tensorflow:Restoring parameters from /home/gabs/Documents/tcc/vggish/vggish/_model/vggish_model.ckpt\n",
      "INFO:tensorflow:Restoring parameters from /home/gabs/Documents/tcc/vggish/vggish/_model/vggish_model.ckpt\n",
      "INFO:tensorflow:Restoring parameters from /home/gabs/Documents/tcc/vggish/vggish/_model/vggish_model.ckpt\n",
      "INFO:tensorflow:Restoring parameters from /home/gabs/Documents/tcc/vggish/vggish/_model/vggish_model.ckpt\n",
      "INFO:tensorflow:Restoring parameters from /home/gabs/Documents/tcc/vggish/vggish/_model/vggish_model.ckpt\n",
      "INFO:tensorflow:Restoring parameters from /home/gabs/Documents/tcc/vggish/vggish/_model/vggish_model.ckpt\n",
      "INFO:tensorflow:Restoring parameters from /home/gabs/Documents/tcc/vggish/vggish/_model/vggish_model.ckpt\n",
      "INFO:tensorflow:Restoring parameters from /home/gabs/Documents/tcc/vggish/vggish/_model/vggish_model.ckpt\n",
      "INFO:tensorflow:Restoring parameters from /home/gabs/Documents/tcc/vggish/vggish/_model/vggish_model.ckpt\n",
      "INFO:tensorflow:Restoring parameters from /home/gabs/Documents/tcc/vggish/vggish/_model/vggish_model.ckpt\n",
      "INFO:tensorflow:Restoring parameters from /home/gabs/Documents/tcc/vggish/vggish/_model/vggish_model.ckpt\n",
      "INFO:tensorflow:Restoring parameters from /home/gabs/Documents/tcc/vggish/vggish/_model/vggish_model.ckpt\n",
      "INFO:tensorflow:Restoring parameters from /home/gabs/Documents/tcc/vggish/vggish/_model/vggish_model.ckpt\n",
      "INFO:tensorflow:Restoring parameters from /home/gabs/Documents/tcc/vggish/vggish/_model/vggish_model.ckpt\n",
      "INFO:tensorflow:Restoring parameters from /home/gabs/Documents/tcc/vggish/vggish/_model/vggish_model.ckpt\n",
      "INFO:tensorflow:Restoring parameters from /home/gabs/Documents/tcc/vggish/vggish/_model/vggish_model.ckpt\n",
      "INFO:tensorflow:Restoring parameters from /home/gabs/Documents/tcc/vggish/vggish/_model/vggish_model.ckpt\n",
      "INFO:tensorflow:Restoring parameters from /home/gabs/Documents/tcc/vggish/vggish/_model/vggish_model.ckpt\n",
      "INFO:tensorflow:Restoring parameters from /home/gabs/Documents/tcc/vggish/vggish/_model/vggish_model.ckpt\n",
      "INFO:tensorflow:Restoring parameters from /home/gabs/Documents/tcc/vggish/vggish/_model/vggish_model.ckpt\n",
      "INFO:tensorflow:Restoring parameters from /home/gabs/Documents/tcc/vggish/vggish/_model/vggish_model.ckpt\n",
      "INFO:tensorflow:Restoring parameters from /home/gabs/Documents/tcc/vggish/vggish/_model/vggish_model.ckpt\n",
      "INFO:tensorflow:Restoring parameters from /home/gabs/Documents/tcc/vggish/vggish/_model/vggish_model.ckpt\n",
      "INFO:tensorflow:Restoring parameters from /home/gabs/Documents/tcc/vggish/vggish/_model/vggish_model.ckpt\n",
      "INFO:tensorflow:Restoring parameters from /home/gabs/Documents/tcc/vggish/vggish/_model/vggish_model.ckpt\n",
      "INFO:tensorflow:Restoring parameters from /home/gabs/Documents/tcc/vggish/vggish/_model/vggish_model.ckpt\n",
      "INFO:tensorflow:Restoring parameters from /home/gabs/Documents/tcc/vggish/vggish/_model/vggish_model.ckpt\n",
      "INFO:tensorflow:Restoring parameters from /home/gabs/Documents/tcc/vggish/vggish/_model/vggish_model.ckpt\n",
      "INFO:tensorflow:Restoring parameters from /home/gabs/Documents/tcc/vggish/vggish/_model/vggish_model.ckpt\n",
      "INFO:tensorflow:Restoring parameters from /home/gabs/Documents/tcc/vggish/vggish/_model/vggish_model.ckpt\n",
      "INFO:tensorflow:Restoring parameters from /home/gabs/Documents/tcc/vggish/vggish/_model/vggish_model.ckpt\n",
      "INFO:tensorflow:Restoring parameters from /home/gabs/Documents/tcc/vggish/vggish/_model/vggish_model.ckpt\n",
      "INFO:tensorflow:Restoring parameters from /home/gabs/Documents/tcc/vggish/vggish/_model/vggish_model.ckpt\n",
      "INFO:tensorflow:Restoring parameters from /home/gabs/Documents/tcc/vggish/vggish/_model/vggish_model.ckpt\n",
      "INFO:tensorflow:Restoring parameters from /home/gabs/Documents/tcc/vggish/vggish/_model/vggish_model.ckpt\n",
      "INFO:tensorflow:Restoring parameters from /home/gabs/Documents/tcc/vggish/vggish/_model/vggish_model.ckpt\n",
      "INFO:tensorflow:Restoring parameters from /home/gabs/Documents/tcc/vggish/vggish/_model/vggish_model.ckpt\n",
      "INFO:tensorflow:Restoring parameters from /home/gabs/Documents/tcc/vggish/vggish/_model/vggish_model.ckpt\n",
      "INFO:tensorflow:Restoring parameters from /home/gabs/Documents/tcc/vggish/vggish/_model/vggish_model.ckpt\n",
      "INFO:tensorflow:Restoring parameters from /home/gabs/Documents/tcc/vggish/vggish/_model/vggish_model.ckpt\n",
      "INFO:tensorflow:Restoring parameters from /home/gabs/Documents/tcc/vggish/vggish/_model/vggish_model.ckpt\n",
      "INFO:tensorflow:Restoring parameters from /home/gabs/Documents/tcc/vggish/vggish/_model/vggish_model.ckpt\n",
      "INFO:tensorflow:Restoring parameters from /home/gabs/Documents/tcc/vggish/vggish/_model/vggish_model.ckpt\n",
      "INFO:tensorflow:Restoring parameters from /home/gabs/Documents/tcc/vggish/vggish/_model/vggish_model.ckpt\n",
      "INFO:tensorflow:Restoring parameters from /home/gabs/Documents/tcc/vggish/vggish/_model/vggish_model.ckpt\n",
      "INFO:tensorflow:Restoring parameters from /home/gabs/Documents/tcc/vggish/vggish/_model/vggish_model.ckpt\n",
      "INFO:tensorflow:Restoring parameters from /home/gabs/Documents/tcc/vggish/vggish/_model/vggish_model.ckpt\n",
      "INFO:tensorflow:Restoring parameters from /home/gabs/Documents/tcc/vggish/vggish/_model/vggish_model.ckpt\n",
      "INFO:tensorflow:Restoring parameters from /home/gabs/Documents/tcc/vggish/vggish/_model/vggish_model.ckpt\n",
      "INFO:tensorflow:Restoring parameters from /home/gabs/Documents/tcc/vggish/vggish/_model/vggish_model.ckpt\n",
      "INFO:tensorflow:Restoring parameters from /home/gabs/Documents/tcc/vggish/vggish/_model/vggish_model.ckpt\n",
      "INFO:tensorflow:Restoring parameters from /home/gabs/Documents/tcc/vggish/vggish/_model/vggish_model.ckpt\n",
      "INFO:tensorflow:Restoring parameters from /home/gabs/Documents/tcc/vggish/vggish/_model/vggish_model.ckpt\n",
      "INFO:tensorflow:Restoring parameters from /home/gabs/Documents/tcc/vggish/vggish/_model/vggish_model.ckpt\n",
      "{'bass': 0, 'drums': 18, 'guitar': 1, 'piano': 0, 'voice': 48}\n"
     ]
    }
   ],
   "source": [
    "insts = {'bass': 0, 'drums': 0, 'guitar': 0, 'piano': 0, 'voice': 0}\n",
    "\n",
    "for idx, segment in enumerate(segments):\n",
    "    _, features = vggish.waveform_to_features(segment, sr)\n",
    "    feature_mean = np.mean(features, axis=0, keepdims=True)\n",
    "    probs = []\n",
    "    \n",
    "    for instrument in instruments_openmic:\n",
    "        with open(f'openmic/models/{instrument}.pkl', 'rb') as f:\n",
    "            clf = pickle.load(f)\n",
    "        prob = clf.predict_proba(feature_mean)[0,1]\n",
    "        probs.append((instrument, prob))\n",
    "        \n",
    "    max_prob = max(probs, key=lambda x: x[1])\n",
    "    insts[max_prob[0]] += 1\n",
    "\n",
    "print(insts)"
   ]
  }
 ],
 "metadata": {
  "kernelspec": {
   "display_name": "Python 3 (ipykernel)",
   "language": "python",
   "name": "python3"
  },
  "language_info": {
   "codemirror_mode": {
    "name": "ipython",
    "version": 3
   },
   "file_extension": ".py",
   "mimetype": "text/x-python",
   "name": "python",
   "nbconvert_exporter": "python",
   "pygments_lexer": "ipython3",
   "version": "3.8.16"
  }
 },
 "nbformat": 4,
 "nbformat_minor": 5
}
